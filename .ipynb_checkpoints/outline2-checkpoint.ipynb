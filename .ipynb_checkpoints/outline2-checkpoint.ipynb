{
 "cells": [
  {
   "cell_type": "markdown",
   "metadata": {},
   "source": [
    "# Technical Requirements\n",
    "+ 6 to 8 visualizations (saved as PNG images to be included in the README)\n",
    "+ one python library we have never used in class\n",
    "+ use at least one API\n",
    "+ create a README in the repo summarizing major findings\n",
    "\n",
    "# Presentation Requirements\n",
    "+ 8-10 mins long\n",
    "+ describe our core mesage/hypothesis\n",
    "+ describe the questions we found interesting and what were our motivations to answer them\n",
    "+ describe the data exploration and cleanup process\n",
    "+ describe the analysis process\n",
    "+ summarize conclusions (numerical and visual summary)\n",
    "+ discuss implications of our findings\n",
    "+ tell a good story"
   ]
  },
  {
   "cell_type": "markdown",
   "metadata": {},
   "source": [
    "# Tasks\n",
    "+ explore questions:\n",
    "    + What happens to employment, interest rates, money, stocks, bonds and liquidity after a technical recession?\n",
    "    + What do recoveries look like?\n",
    "    + What will this recession and recovery look like?\n",
    "+ find/explore APIs/datasets:\n",
    "    + FRED API\n",
    "    + FTSE All World ex US Index (VFWIX)\n",
    "+ figure out which tools we will use:\n",
    "    + monte carlo\n",
    "    + correlation maps\n",
    "    + SQL database\n",
    "    + dashboard w/ interactive plots\n",
    "+ create dataframes:\n",
    "    + macro (employment, interest, and money)\n",
    "    + market (stocks, bonds, and liquidity(spreads and volume))\n",
    "+ analyze data\n",
    "+ plot data"
   ]
  },
  {
   "cell_type": "markdown",
   "metadata": {},
   "source": [
    "# Import libraries and dependencies"
   ]
  },
  {
   "cell_type": "code",
   "execution_count": 36,
   "metadata": {},
   "outputs": [],
   "source": [
    "import pandas as pd\n",
    "import numpy as np\n",
    "import os\n",
    "from datetime import datetime, timedelta\n",
    "import plotly.express as px\n",
    "import hvplot.pandas\n",
    "import panel as pn\n",
    "from pathlib import Path\n",
    "import requests\n",
    "from fred import Fred\n",
    "import json\n",
    "from alpha_vantage.timeseries import TimeSeries\n",
    "from alpha_vantage.techindicators import TechIndicators\n",
    "from matplotlib.pyplot import figure\n",
    "import matplotlib.pyplot as plt\n",
    "from fredapi import Fred"
   ]
  },
  {
   "cell_type": "markdown",
   "metadata": {},
   "source": [
    "# Load environment variables and set keys"
   ]
  },
  {
   "cell_type": "code",
   "execution_count": 37,
   "metadata": {},
   "outputs": [],
   "source": [
    "#Load environment variables\n",
    "from dotenv import load_dotenv\n",
    "load_dotenv()\n",
    "\n",
    "#Set API keys\n",
    "fred_api_key = os.getenv(\"FRED_API_KEY\")\n",
    "\n",
    "#Initiate response\n",
    "#fr = Fred(fred_api_key,response_type='df')\n",
    "\n",
    "fred = Fred(api_key=fred_api_key)\n"
   ]
  },
  {
   "cell_type": "markdown",
   "metadata": {},
   "source": [
    "# Retreive data"
   ]
  },
  {
   "cell_type": "code",
   "execution_count": 57,
   "metadata": {},
   "outputs": [
    {
     "data": {
      "text/plain": [
       "2020-04-27    135.58\n",
       "2020-04-28    135.04\n",
       "2020-04-29    139.00\n",
       "2020-04-30    137.35\n",
       "2020-05-01    133.32\n",
       "dtype: float64"
      ]
     },
     "execution_count": 57,
     "metadata": {},
     "output_type": "execute_result"
    }
   ],
   "source": [
    "#Retreive data\n",
    "\n",
    "\n",
    "GDP = fred.get_series('GDP', observation_start='1900-01-01', observation_end='2020-05-01')\n",
    "recession_indicator = fred.get_series('JHDUSRGDPBR', observation_start='1900-01-01', observation_end='2020-05-01')\n",
    "unemployment_rate= fred.get_series('UNRATE', observation_start='1900-01-01', observation_end='2020-05-01')\n",
    "ff_rate=fred.get_series('DFF', observation_start='1900-01-01', observation_end='2020-05-01')\n",
    "M2_velocity=fred.get_series('M2V', observation_start='1900-01-01', observation_end='2020-05-01')\n",
    "M2=fred.get_series('M2', observation_start='1900-01-01', observation_end='2020-05-01')\n",
    "wilshire=fred.get_series('WILL5000INDFC', observation_start='1900-01-01', observation_end='2020-05-01')\n"
   ]
  },
  {
   "cell_type": "markdown",
   "metadata": {},
   "source": [
    "# Manipulate data"
   ]
  },
  {
   "cell_type": "code",
   "execution_count": null,
   "metadata": {},
   "outputs": [],
   "source": [
    "#Manipulate data\n"
   ]
  },
  {
   "cell_type": "markdown",
   "metadata": {},
   "source": [
    "# Create dataframes"
   ]
  },
  {
   "cell_type": "code",
   "execution_count": null,
   "metadata": {},
   "outputs": [],
   "source": [
    "#Create dataframes\n"
   ]
  },
  {
   "cell_type": "markdown",
   "metadata": {},
   "source": [
    "# Create plots"
   ]
  },
  {
   "cell_type": "code",
   "execution_count": null,
   "metadata": {},
   "outputs": [],
   "source": [
    "#Plot the data\n"
   ]
  },
  {
   "cell_type": "markdown",
   "metadata": {},
   "source": [
    "# Create dashboard"
   ]
  },
  {
   "cell_type": "code",
   "execution_count": null,
   "metadata": {},
   "outputs": [],
   "source": []
  },
  {
   "cell_type": "markdown",
   "metadata": {},
   "source": [
    "# Monte Carlo analysis"
   ]
  },
  {
   "cell_type": "code",
   "execution_count": null,
   "metadata": {},
   "outputs": [],
   "source": []
  }
 ],
 "metadata": {
  "kernelspec": {
   "display_name": "Python 3",
   "language": "python",
   "name": "python3"
  },
  "language_info": {
   "codemirror_mode": {
    "name": "ipython",
    "version": 3
   },
   "file_extension": ".py",
   "mimetype": "text/x-python",
   "name": "python",
   "nbconvert_exporter": "python",
   "pygments_lexer": "ipython3",
   "version": "3.7.6"
  }
 },
 "nbformat": 4,
 "nbformat_minor": 4
}
